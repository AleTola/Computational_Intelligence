{
 "cells": [
  {
   "cell_type": "code",
   "execution_count": 1,
   "metadata": {},
   "outputs": [],
   "source": [
    "import logging\n",
    "\n",
    "import logging\n",
    "from collections import namedtuple\n",
    "from collections import Counter\n",
    "import random\n",
    "from matplotlib import pyplot as plt"
   ]
  },
  {
   "cell_type": "code",
   "execution_count": 2,
   "metadata": {},
   "outputs": [],
   "source": [
    "SEED = 42"
   ]
  },
  {
   "cell_type": "code",
   "execution_count": 3,
   "metadata": {},
   "outputs": [],
   "source": [
    "Individual = namedtuple(\"Individual\", [\"genome\", \"fitness\"])\n",
    "\n",
    "def evaluate(state):\n",
    "    cnt = Counter()\n",
    "    cnt.update(sum((e for e in state), start=()))\n",
    "    return len(cnt), -cnt.total()"
   ]
  },
  {
   "cell_type": "code",
   "execution_count": 4,
   "metadata": {},
   "outputs": [],
   "source": [
    "import itertools\n",
    "\n",
    "def tournament(population, tournament_size=2):\n",
    "    # Take randomly 2 individuals from the  population and take the one with the higher fitness\n",
    "    return max(random.choices(population, k=tournament_size), key=lambda i: i.fitness)\n",
    "\n",
    "def cross_over(g1, g2):\n",
    "\n",
    "    if (len(g1) > len(g2)):\n",
    "        len_small = len(g2)\n",
    "    else:\n",
    "        len_small = len(g1)\n",
    "    \n",
    "    cut2 = random.randint(1, len_small)\n",
    "    cut1 = random.randint(cut2-1, len_small-1)\n",
    "\n",
    "    return set(list(g1)[cut1:] + list(g2)[:cut2])"
   ]
  },
  {
   "cell_type": "code",
   "execution_count": 5,
   "metadata": {},
   "outputs": [],
   "source": [
    "\n",
    "def mutation(solution):\n",
    "    # We randomly modify our solution\n",
    "    new_solution = set(solution)\n",
    "\n",
    "    #print(solution)\n",
    "\n",
    "    # We romove one random element from the solution \n",
    "    r = random.choice(list(new_solution))\n",
    "    new_solution.remove(r)\n",
    "\n",
    "    # We add one random element to the new solution\n",
    "    # We take the element to add from the list of all possible elements in our original list of subsets\n",
    "    # minus the elements already present in our current solution\n",
    "    a = random.choice(list(all_lists - solution))\n",
    "    new_solution.add(tuple(a))\n",
    "\n",
    "    #print(new_solution)\n",
    "\n",
    "    return new_solution"
   ]
  },
  {
   "cell_type": "code",
   "execution_count": 6,
   "metadata": {},
   "outputs": [],
   "source": [
    "logging.getLogger().setLevel(logging.INFO)"
   ]
  },
  {
   "cell_type": "code",
   "execution_count": 7,
   "metadata": {},
   "outputs": [],
   "source": [
    "\n",
    "NUM_GENERATIONS = 100\n",
    "\n",
    "def evolution(population, POPULATION_SIZE, mutation_rate):\n",
    "\n",
    "    OFFSPRING_SIZE = int(POPULATION_SIZE / 2)\n",
    "\n",
    "    fitness_log = [(0, i.fitness) for i in population]\n",
    "\n",
    "    for g in range(NUM_GENERATIONS):\n",
    "        offspring = list()\n",
    "        for i in range(OFFSPRING_SIZE):\n",
    "            # Randomically perform a mutation on one gene\n",
    "            if random.random() < mutation_rate:\n",
    "                p = tournament(population)\n",
    "                o = mutation(p.genome)\n",
    "                #print(o)\n",
    "            # Otherwise take two random individuals as parents and through crossover create \n",
    "            # a new individual --> offspring\n",
    "            else:\n",
    "                p1 = tournament(population)\n",
    "                p2 = tournament(population)\n",
    "                o = cross_over(p1.genome, p2.genome)\n",
    "                #print(o)\n",
    "            f = evaluate(o)\n",
    "            fitness_log.append((g + 1, f))\n",
    "            # take count of the list of all offspring created in one generation\n",
    "            offspring.append(Individual(o, f))\n",
    "        # After one generation add the offspring to the population\n",
    "        population += offspring\n",
    "        # Take from the enlarged new population only the best POPULATION_SIZE individuals\n",
    "        population = sorted(population, key=lambda i: i.fitness, reverse=True)[:POPULATION_SIZE]\n",
    "\n",
    "    return population"
   ]
  },
  {
   "cell_type": "code",
   "execution_count": 8,
   "metadata": {},
   "outputs": [],
   "source": [
    "def problem(N, seed=None):\n",
    "    random.seed(seed)\n",
    "    return [\n",
    "        list(set(random.randint(0, N - 1) for n in range(random.randint(N // 5, N // 2))))\n",
    "        for n in range(random.randint(N, N * 5))\n",
    "    ]\n",
    "\n",
    "def create_population(N):\n",
    "\n",
    "    population = list()\n",
    "    all_lists = set(tuple(_) for _ in problem(N, SEED))\n",
    "\n",
    "    for genome in all_lists:\n",
    "\n",
    "        gene = set()\n",
    "        gene.add(genome)\n",
    "        population.append(Individual(gene, evaluate(gene)))\n",
    "\n",
    "    return population, all_lists, len(population)"
   ]
  },
  {
   "cell_type": "code",
   "execution_count": 9,
   "metadata": {},
   "outputs": [
    {
     "name": "stderr",
     "output_type": "stream",
     "text": [
      "INFO:root: Solution for N=5: w=5 (bloat=0%)\n",
      "INFO:root: Solution for N=10: w=10 (bloat=0%)\n",
      "INFO:root: Solution for N=20: w=24 (bloat=20%)\n",
      "INFO:root: Solution for N=100: w=181 (bloat=81%)\n",
      "INFO:root: Solution for N=500: w=1431 (bloat=186%)\n",
      "INFO:root: Solution for N=1,000: w=3460 (bloat=246%)\n"
     ]
    }
   ],
   "source": [
    "\n",
    "for N in [5, 10, 20, 100, \n",
    "            500, \n",
    "            1000\n",
    "            ]:\n",
    "    mutation_rate = 0.55\n",
    "    population, all_lists, population_size = create_population(N)\n",
    "    solution = evolution(population, population_size, mutation_rate)\n",
    "\n",
    "    w = (-solution[0][1][1])\n",
    "\n",
    "    # print(\"Mutation rate: \", mutation_rate)\n",
    "    logging.info(\n",
    "        f\" Solution for N={N:,}: \"\n",
    "        + f\"w={w} \"\n",
    "        + f\"(bloat={(w-N)/N*100:.0f}%)\"\n",
    "    )\n"
   ]
  }
 ],
 "metadata": {
  "kernelspec": {
   "display_name": "Python 3.10.7 64-bit",
   "language": "python",
   "name": "python3"
  },
  "language_info": {
   "codemirror_mode": {
    "name": "ipython",
    "version": 3
   },
   "file_extension": ".py",
   "mimetype": "text/x-python",
   "name": "python",
   "nbconvert_exporter": "python",
   "pygments_lexer": "ipython3",
   "version": "3.10.7"
  },
  "orig_nbformat": 4,
  "vscode": {
   "interpreter": {
    "hash": "aee8b7b246df8f9039afb4144a1f6fd8d2ca17a180786b69acc140d282b71a49"
   }
  }
 },
 "nbformat": 4,
 "nbformat_minor": 2
}

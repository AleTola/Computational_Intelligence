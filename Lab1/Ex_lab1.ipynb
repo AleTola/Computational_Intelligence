{
 "cells": [
  {
   "cell_type": "code",
   "execution_count": 1,
   "metadata": {},
   "outputs": [],
   "source": [
    "N = 20\n",
    "SEED = 42"
   ]
  },
  {
   "cell_type": "code",
   "execution_count": 2,
   "metadata": {},
   "outputs": [],
   "source": [
    "import random\n",
    "import numpy as np\n",
    "\n",
    "\n",
    "def set_cover(universe, subsets, costs):\n",
    "    cost = 0\n",
    "    # Check if all the numbers in the subsets can achieve the goal\n",
    "    elements = set(e for s in subsets for e in s)\n",
    "    if elements != universe:\n",
    "        return None\n",
    "\n",
    "    covered = set()\n",
    "    cover = []\n",
    "    n=0\n",
    "    \n",
    "    # Do the while cycle until we have found the right subset\n",
    "    while covered != elements:\n",
    "        n += 1\n",
    "        # subset = set with the highest 'elements not in covered / cost' ratio\n",
    "        if(len(covered) == 0):\n",
    "            subset = max(subsets, key = lambda s: len(s))\n",
    "        else:\n",
    "            subset = max(subsets, key = lambda s: len(s - covered)/costs[subsets.index(s)])\n",
    "            #subset = max(subsets, key = lambda s: len(s - covered) * costs[subsets.index(s)])\n",
    "        \n",
    "        # cover + subset\n",
    "        cover.append(subset)\n",
    "\n",
    "        # cost + cost of subset\n",
    "        cost += costs[subsets.index(subset)]\n",
    "\n",
    "        # covered + elements in subset not in covered\n",
    "        covered |= subset\n",
    " \n",
    "    return cover, cost, n"
   ]
  },
  {
   "cell_type": "code",
   "execution_count": 6,
   "metadata": {},
   "outputs": [],
   "source": [
    "def main(a, b, c):\n",
    "\n",
    "    m = a\n",
    "    universe = set(range(0, m))\n",
    "\n",
    "    sub = b  \n",
    "    subsets = [set(x) for x in sub]\n",
    "\n",
    "    costs =  c \n",
    "\n",
    "    cover = set_cover(universe, subsets, costs)\n",
    "\n",
    "    print('covering sets = ', cover[0])\n",
    "    print('weigth = ', cover[1])\n",
    "    print('nodes: ', cover[2])\n",
    "     "
   ]
  },
  {
   "cell_type": "code",
   "execution_count": 4,
   "metadata": {},
   "outputs": [],
   "source": [
    "def problem(N, seed=None):\n",
    "    random.seed(seed)\n",
    "    return [\n",
    "        list(set(random.randint(0, N - 1) for n in range(random.randint(N // 5, N // 2))))\n",
    "        for n in range(random.randint(N, N * 5))\n",
    "    ]"
   ]
  },
  {
   "cell_type": "code",
   "execution_count": 7,
   "metadata": {},
   "outputs": [
    {
     "name": "stdout",
     "output_type": "stream",
     "text": [
      "covering sets =  [{0, 3, 5, 8, 9, 10, 13, 14, 17}, {4, 7, 11, 12, 15, 16, 18}, {1, 2, 9, 7}, {16, 9, 19, 6}]\n",
      "weigth =  24\n",
      "nodes:  4\n"
     ]
    }
   ],
   "source": [
    "S1 = problem(N, SEED)\n",
    "\n",
    "P1 = []\n",
    "for vec in S1:\n",
    "    P1.append(len(vec))\n",
    "\n",
    "if __name__ == '__main__':\n",
    "    main(N, S1, P1)\n"
   ]
  }
 ],
 "metadata": {
  "kernelspec": {
   "display_name": "Python 3.10.7 64-bit",
   "language": "python",
   "name": "python3"
  },
  "language_info": {
   "codemirror_mode": {
    "name": "ipython",
    "version": 3
   },
   "file_extension": ".py",
   "mimetype": "text/x-python",
   "name": "python",
   "nbconvert_exporter": "python",
   "pygments_lexer": "ipython3",
   "version": "3.10.7"
  },
  "orig_nbformat": 4,
  "vscode": {
   "interpreter": {
    "hash": "aee8b7b246df8f9039afb4144a1f6fd8d2ca17a180786b69acc140d282b71a49"
   }
  }
 },
 "nbformat": 4,
 "nbformat_minor": 2
}
